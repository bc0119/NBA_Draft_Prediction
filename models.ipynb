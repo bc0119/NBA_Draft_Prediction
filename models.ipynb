{
 "cells": [
  {
   "cell_type": "markdown",
   "metadata": {},
   "source": [
    "# Modeling"
   ]
  },
  {
   "cell_type": "code",
   "execution_count": 10,
   "metadata": {},
   "outputs": [],
   "source": [
    "import pandas as pd\n",
    "import numpy as np\n",
    "import matplotlib.pyplot as plt\n",
    "%matplotlib inline\n",
    "import seaborn as sns\n",
    "import warnings\n",
    "warnings.filterwarnings('ignore')\n"
   ]
  },
  {
   "cell_type": "code",
   "execution_count": 11,
   "metadata": {},
   "outputs": [],
   "source": [
    "data = pd.read_csv(\"/Users/brianchoi/Documents/Data_Science/Projects/NBA_Draft_Prediction/Data/collegeplayer_cleaned2.csv\")"
   ]
  },
  {
   "cell_type": "code",
   "execution_count": 12,
   "metadata": {},
   "outputs": [
    {
     "data": {
      "text/html": [
       "<div>\n",
       "<style scoped>\n",
       "    .dataframe tbody tr th:only-of-type {\n",
       "        vertical-align: middle;\n",
       "    }\n",
       "\n",
       "    .dataframe tbody tr th {\n",
       "        vertical-align: top;\n",
       "    }\n",
       "\n",
       "    .dataframe thead th {\n",
       "        text-align: right;\n",
       "    }\n",
       "</style>\n",
       "<table border=\"1\" class=\"dataframe\">\n",
       "  <thead>\n",
       "    <tr style=\"text-align: right;\">\n",
       "      <th></th>\n",
       "      <th>Unnamed: 0</th>\n",
       "      <th>AFFILIATION</th>\n",
       "      <th>conf</th>\n",
       "      <th>GP</th>\n",
       "      <th>Min_per</th>\n",
       "      <th>Ortg</th>\n",
       "      <th>usg</th>\n",
       "      <th>eFG</th>\n",
       "      <th>TS_per</th>\n",
       "      <th>ORB_per</th>\n",
       "      <th>...</th>\n",
       "      <th>mp</th>\n",
       "      <th>oreb</th>\n",
       "      <th>dreb</th>\n",
       "      <th>treb</th>\n",
       "      <th>ast</th>\n",
       "      <th>stl</th>\n",
       "      <th>blk</th>\n",
       "      <th>pts</th>\n",
       "      <th>Position</th>\n",
       "      <th>Class</th>\n",
       "    </tr>\n",
       "  </thead>\n",
       "  <tbody>\n",
       "    <tr>\n",
       "      <th>0</th>\n",
       "      <td>0</td>\n",
       "      <td>Oklahoma State</td>\n",
       "      <td>B12</td>\n",
       "      <td>27</td>\n",
       "      <td>78.0</td>\n",
       "      <td>104.1</td>\n",
       "      <td>28.6</td>\n",
       "      <td>51.6</td>\n",
       "      <td>57.46</td>\n",
       "      <td>2.3</td>\n",
       "      <td>...</td>\n",
       "      <td>35.4074</td>\n",
       "      <td>0.7037</td>\n",
       "      <td>5.4815</td>\n",
       "      <td>6.1852</td>\n",
       "      <td>3.4444</td>\n",
       "      <td>1.5926</td>\n",
       "      <td>0.7778</td>\n",
       "      <td>20.2222</td>\n",
       "      <td>Wing F</td>\n",
       "      <td>1</td>\n",
       "    </tr>\n",
       "    <tr>\n",
       "      <th>1</th>\n",
       "      <td>1</td>\n",
       "      <td>Southern California</td>\n",
       "      <td>P12</td>\n",
       "      <td>33</td>\n",
       "      <td>83.6</td>\n",
       "      <td>119.4</td>\n",
       "      <td>23.4</td>\n",
       "      <td>59.5</td>\n",
       "      <td>62.40</td>\n",
       "      <td>9.7</td>\n",
       "      <td>...</td>\n",
       "      <td>33.9394</td>\n",
       "      <td>2.7273</td>\n",
       "      <td>5.9394</td>\n",
       "      <td>8.6667</td>\n",
       "      <td>2.3939</td>\n",
       "      <td>0.7879</td>\n",
       "      <td>2.8485</td>\n",
       "      <td>16.3636</td>\n",
       "      <td>C</td>\n",
       "      <td>1</td>\n",
       "    </tr>\n",
       "    <tr>\n",
       "      <th>2</th>\n",
       "      <td>2</td>\n",
       "      <td>Florida State</td>\n",
       "      <td>ACC</td>\n",
       "      <td>24</td>\n",
       "      <td>58.9</td>\n",
       "      <td>107.5</td>\n",
       "      <td>25.3</td>\n",
       "      <td>53.1</td>\n",
       "      <td>54.78</td>\n",
       "      <td>7.4</td>\n",
       "      <td>...</td>\n",
       "      <td>24.7917</td>\n",
       "      <td>1.4583</td>\n",
       "      <td>2.5417</td>\n",
       "      <td>4.0000</td>\n",
       "      <td>4.0833</td>\n",
       "      <td>1.4583</td>\n",
       "      <td>0.4583</td>\n",
       "      <td>10.3333</td>\n",
       "      <td>Scoring PG</td>\n",
       "      <td>1</td>\n",
       "    </tr>\n",
       "    <tr>\n",
       "      <th>3</th>\n",
       "      <td>3</td>\n",
       "      <td>Gonzaga</td>\n",
       "      <td>WCC</td>\n",
       "      <td>30</td>\n",
       "      <td>67.5</td>\n",
       "      <td>110.4</td>\n",
       "      <td>25.3</td>\n",
       "      <td>55.9</td>\n",
       "      <td>59.39</td>\n",
       "      <td>2.7</td>\n",
       "      <td>...</td>\n",
       "      <td>28.9333</td>\n",
       "      <td>0.6000</td>\n",
       "      <td>4.7333</td>\n",
       "      <td>5.3333</td>\n",
       "      <td>4.5333</td>\n",
       "      <td>1.9000</td>\n",
       "      <td>0.3333</td>\n",
       "      <td>14.3000</td>\n",
       "      <td>Combo G</td>\n",
       "      <td>1</td>\n",
       "    </tr>\n",
       "    <tr>\n",
       "      <th>4</th>\n",
       "      <td>4</td>\n",
       "      <td>Michigan</td>\n",
       "      <td>B10</td>\n",
       "      <td>27</td>\n",
       "      <td>66.1</td>\n",
       "      <td>105.5</td>\n",
       "      <td>18.6</td>\n",
       "      <td>53.4</td>\n",
       "      <td>56.59</td>\n",
       "      <td>3.4</td>\n",
       "      <td>...</td>\n",
       "      <td>30.7407</td>\n",
       "      <td>0.8889</td>\n",
       "      <td>4.7037</td>\n",
       "      <td>5.5926</td>\n",
       "      <td>1.0000</td>\n",
       "      <td>1.2593</td>\n",
       "      <td>0.5926</td>\n",
       "      <td>11.5556</td>\n",
       "      <td>Wing F</td>\n",
       "      <td>1</td>\n",
       "    </tr>\n",
       "    <tr>\n",
       "      <th>...</th>\n",
       "      <td>...</td>\n",
       "      <td>...</td>\n",
       "      <td>...</td>\n",
       "      <td>...</td>\n",
       "      <td>...</td>\n",
       "      <td>...</td>\n",
       "      <td>...</td>\n",
       "      <td>...</td>\n",
       "      <td>...</td>\n",
       "      <td>...</td>\n",
       "      <td>...</td>\n",
       "      <td>...</td>\n",
       "      <td>...</td>\n",
       "      <td>...</td>\n",
       "      <td>...</td>\n",
       "      <td>...</td>\n",
       "      <td>...</td>\n",
       "      <td>...</td>\n",
       "      <td>...</td>\n",
       "      <td>...</td>\n",
       "      <td>...</td>\n",
       "    </tr>\n",
       "    <tr>\n",
       "      <th>1482</th>\n",
       "      <td>1482</td>\n",
       "      <td>St. Mary's (CA)</td>\n",
       "      <td>WCC</td>\n",
       "      <td>24</td>\n",
       "      <td>61.7</td>\n",
       "      <td>108.8</td>\n",
       "      <td>29.0</td>\n",
       "      <td>47.6</td>\n",
       "      <td>52.27</td>\n",
       "      <td>1.6</td>\n",
       "      <td>...</td>\n",
       "      <td>33.9583</td>\n",
       "      <td>0.4583</td>\n",
       "      <td>1.8333</td>\n",
       "      <td>2.2917</td>\n",
       "      <td>3.7917</td>\n",
       "      <td>2.2083</td>\n",
       "      <td>0.2083</td>\n",
       "      <td>18.6250</td>\n",
       "      <td>NaN</td>\n",
       "      <td>0</td>\n",
       "    </tr>\n",
       "    <tr>\n",
       "      <th>1483</th>\n",
       "      <td>1483</td>\n",
       "      <td>Saint Joseph's</td>\n",
       "      <td>A10</td>\n",
       "      <td>32</td>\n",
       "      <td>96.5</td>\n",
       "      <td>119.7</td>\n",
       "      <td>22.9</td>\n",
       "      <td>61.2</td>\n",
       "      <td>66.99</td>\n",
       "      <td>12.5</td>\n",
       "      <td>...</td>\n",
       "      <td>39.3438</td>\n",
       "      <td>3.9375</td>\n",
       "      <td>7.8750</td>\n",
       "      <td>11.8125</td>\n",
       "      <td>1.0000</td>\n",
       "      <td>0.8125</td>\n",
       "      <td>1.7500</td>\n",
       "      <td>19.1562</td>\n",
       "      <td>NaN</td>\n",
       "      <td>0</td>\n",
       "    </tr>\n",
       "    <tr>\n",
       "      <th>1484</th>\n",
       "      <td>1484</td>\n",
       "      <td>Tennessee-Martin</td>\n",
       "      <td>OVC</td>\n",
       "      <td>30</td>\n",
       "      <td>90.6</td>\n",
       "      <td>115.3</td>\n",
       "      <td>35.5</td>\n",
       "      <td>51.7</td>\n",
       "      <td>56.00</td>\n",
       "      <td>6.5</td>\n",
       "      <td>...</td>\n",
       "      <td>36.5333</td>\n",
       "      <td>2.2000</td>\n",
       "      <td>5.8667</td>\n",
       "      <td>8.0667</td>\n",
       "      <td>4.1333</td>\n",
       "      <td>2.1000</td>\n",
       "      <td>0.6000</td>\n",
       "      <td>27.7333</td>\n",
       "      <td>NaN</td>\n",
       "      <td>0</td>\n",
       "    </tr>\n",
       "    <tr>\n",
       "      <th>1485</th>\n",
       "      <td>1485</td>\n",
       "      <td>Texas A&amp;M</td>\n",
       "      <td>B12</td>\n",
       "      <td>33</td>\n",
       "      <td>59.1</td>\n",
       "      <td>112.0</td>\n",
       "      <td>20.4</td>\n",
       "      <td>66.3</td>\n",
       "      <td>65.87</td>\n",
       "      <td>13.8</td>\n",
       "      <td>...</td>\n",
       "      <td>23.7273</td>\n",
       "      <td>2.7879</td>\n",
       "      <td>4.4242</td>\n",
       "      <td>7.2121</td>\n",
       "      <td>0.3030</td>\n",
       "      <td>0.3030</td>\n",
       "      <td>1.5758</td>\n",
       "      <td>9.7273</td>\n",
       "      <td>NaN</td>\n",
       "      <td>0</td>\n",
       "    </tr>\n",
       "    <tr>\n",
       "      <th>1486</th>\n",
       "      <td>1486</td>\n",
       "      <td>Memphis</td>\n",
       "      <td>CUSA</td>\n",
       "      <td>37</td>\n",
       "      <td>75.3</td>\n",
       "      <td>114.4</td>\n",
       "      <td>21.0</td>\n",
       "      <td>55.2</td>\n",
       "      <td>59.37</td>\n",
       "      <td>10.7</td>\n",
       "      <td>...</td>\n",
       "      <td>30.2162</td>\n",
       "      <td>2.8649</td>\n",
       "      <td>4.5946</td>\n",
       "      <td>7.4595</td>\n",
       "      <td>1.4324</td>\n",
       "      <td>1.2703</td>\n",
       "      <td>1.6486</td>\n",
       "      <td>12.8919</td>\n",
       "      <td>NaN</td>\n",
       "      <td>0</td>\n",
       "    </tr>\n",
       "  </tbody>\n",
       "</table>\n",
       "<p>1487 rows × 50 columns</p>\n",
       "</div>"
      ],
      "text/plain": [
       "      Unnamed: 0          AFFILIATION  conf  GP  Min_per   Ortg   usg   eFG  \\\n",
       "0              0       Oklahoma State   B12  27     78.0  104.1  28.6  51.6   \n",
       "1              1  Southern California   P12  33     83.6  119.4  23.4  59.5   \n",
       "2              2        Florida State   ACC  24     58.9  107.5  25.3  53.1   \n",
       "3              3              Gonzaga   WCC  30     67.5  110.4  25.3  55.9   \n",
       "4              4             Michigan   B10  27     66.1  105.5  18.6  53.4   \n",
       "...          ...                  ...   ...  ..      ...    ...   ...   ...   \n",
       "1482        1482      St. Mary's (CA)   WCC  24     61.7  108.8  29.0  47.6   \n",
       "1483        1483       Saint Joseph's   A10  32     96.5  119.7  22.9  61.2   \n",
       "1484        1484     Tennessee-Martin   OVC  30     90.6  115.3  35.5  51.7   \n",
       "1485        1485            Texas A&M   B12  33     59.1  112.0  20.4  66.3   \n",
       "1486        1486              Memphis  CUSA  37     75.3  114.4  21.0  55.2   \n",
       "\n",
       "      TS_per  ORB_per  ...       mp    oreb    dreb     treb     ast     stl  \\\n",
       "0      57.46      2.3  ...  35.4074  0.7037  5.4815   6.1852  3.4444  1.5926   \n",
       "1      62.40      9.7  ...  33.9394  2.7273  5.9394   8.6667  2.3939  0.7879   \n",
       "2      54.78      7.4  ...  24.7917  1.4583  2.5417   4.0000  4.0833  1.4583   \n",
       "3      59.39      2.7  ...  28.9333  0.6000  4.7333   5.3333  4.5333  1.9000   \n",
       "4      56.59      3.4  ...  30.7407  0.8889  4.7037   5.5926  1.0000  1.2593   \n",
       "...      ...      ...  ...      ...     ...     ...      ...     ...     ...   \n",
       "1482   52.27      1.6  ...  33.9583  0.4583  1.8333   2.2917  3.7917  2.2083   \n",
       "1483   66.99     12.5  ...  39.3438  3.9375  7.8750  11.8125  1.0000  0.8125   \n",
       "1484   56.00      6.5  ...  36.5333  2.2000  5.8667   8.0667  4.1333  2.1000   \n",
       "1485   65.87     13.8  ...  23.7273  2.7879  4.4242   7.2121  0.3030  0.3030   \n",
       "1486   59.37     10.7  ...  30.2162  2.8649  4.5946   7.4595  1.4324  1.2703   \n",
       "\n",
       "         blk      pts    Position  Class  \n",
       "0     0.7778  20.2222      Wing F      1  \n",
       "1     2.8485  16.3636           C      1  \n",
       "2     0.4583  10.3333  Scoring PG      1  \n",
       "3     0.3333  14.3000     Combo G      1  \n",
       "4     0.5926  11.5556      Wing F      1  \n",
       "...      ...      ...         ...    ...  \n",
       "1482  0.2083  18.6250         NaN      0  \n",
       "1483  1.7500  19.1562         NaN      0  \n",
       "1484  0.6000  27.7333         NaN      0  \n",
       "1485  1.5758   9.7273         NaN      0  \n",
       "1486  1.6486  12.8919         NaN      0  \n",
       "\n",
       "[1487 rows x 50 columns]"
      ]
     },
     "execution_count": 12,
     "metadata": {},
     "output_type": "execute_result"
    }
   ],
   "source": [
    "data"
   ]
  },
  {
   "cell_type": "code",
   "execution_count": 13,
   "metadata": {},
   "outputs": [],
   "source": [
    "data.drop(columns=['Unnamed: 0'], inplace=True)"
   ]
  },
  {
   "cell_type": "code",
   "execution_count": 14,
   "metadata": {},
   "outputs": [
    {
     "data": {
      "text/html": [
       "<div>\n",
       "<style scoped>\n",
       "    .dataframe tbody tr th:only-of-type {\n",
       "        vertical-align: middle;\n",
       "    }\n",
       "\n",
       "    .dataframe tbody tr th {\n",
       "        vertical-align: top;\n",
       "    }\n",
       "\n",
       "    .dataframe thead th {\n",
       "        text-align: right;\n",
       "    }\n",
       "</style>\n",
       "<table border=\"1\" class=\"dataframe\">\n",
       "  <thead>\n",
       "    <tr style=\"text-align: right;\">\n",
       "      <th></th>\n",
       "      <th>AFFILIATION</th>\n",
       "      <th>conf</th>\n",
       "      <th>GP</th>\n",
       "      <th>Min_per</th>\n",
       "      <th>Ortg</th>\n",
       "      <th>usg</th>\n",
       "      <th>eFG</th>\n",
       "      <th>TS_per</th>\n",
       "      <th>ORB_per</th>\n",
       "      <th>DRB_per</th>\n",
       "      <th>...</th>\n",
       "      <th>mp</th>\n",
       "      <th>oreb</th>\n",
       "      <th>dreb</th>\n",
       "      <th>treb</th>\n",
       "      <th>ast</th>\n",
       "      <th>stl</th>\n",
       "      <th>blk</th>\n",
       "      <th>pts</th>\n",
       "      <th>Position</th>\n",
       "      <th>Class</th>\n",
       "    </tr>\n",
       "  </thead>\n",
       "  <tbody>\n",
       "    <tr>\n",
       "      <th>0</th>\n",
       "      <td>Oklahoma State</td>\n",
       "      <td>B12</td>\n",
       "      <td>27</td>\n",
       "      <td>78.0</td>\n",
       "      <td>104.1</td>\n",
       "      <td>28.6</td>\n",
       "      <td>51.6</td>\n",
       "      <td>57.46</td>\n",
       "      <td>2.3</td>\n",
       "      <td>16.2</td>\n",
       "      <td>...</td>\n",
       "      <td>35.4074</td>\n",
       "      <td>0.7037</td>\n",
       "      <td>5.4815</td>\n",
       "      <td>6.1852</td>\n",
       "      <td>3.4444</td>\n",
       "      <td>1.5926</td>\n",
       "      <td>0.7778</td>\n",
       "      <td>20.2222</td>\n",
       "      <td>Wing F</td>\n",
       "      <td>1</td>\n",
       "    </tr>\n",
       "    <tr>\n",
       "      <th>1</th>\n",
       "      <td>Southern California</td>\n",
       "      <td>P12</td>\n",
       "      <td>33</td>\n",
       "      <td>83.6</td>\n",
       "      <td>119.4</td>\n",
       "      <td>23.4</td>\n",
       "      <td>59.5</td>\n",
       "      <td>62.40</td>\n",
       "      <td>9.7</td>\n",
       "      <td>18.8</td>\n",
       "      <td>...</td>\n",
       "      <td>33.9394</td>\n",
       "      <td>2.7273</td>\n",
       "      <td>5.9394</td>\n",
       "      <td>8.6667</td>\n",
       "      <td>2.3939</td>\n",
       "      <td>0.7879</td>\n",
       "      <td>2.8485</td>\n",
       "      <td>16.3636</td>\n",
       "      <td>C</td>\n",
       "      <td>1</td>\n",
       "    </tr>\n",
       "    <tr>\n",
       "      <th>2</th>\n",
       "      <td>Florida State</td>\n",
       "      <td>ACC</td>\n",
       "      <td>24</td>\n",
       "      <td>58.9</td>\n",
       "      <td>107.5</td>\n",
       "      <td>25.3</td>\n",
       "      <td>53.1</td>\n",
       "      <td>54.78</td>\n",
       "      <td>7.4</td>\n",
       "      <td>11.0</td>\n",
       "      <td>...</td>\n",
       "      <td>24.7917</td>\n",
       "      <td>1.4583</td>\n",
       "      <td>2.5417</td>\n",
       "      <td>4.0000</td>\n",
       "      <td>4.0833</td>\n",
       "      <td>1.4583</td>\n",
       "      <td>0.4583</td>\n",
       "      <td>10.3333</td>\n",
       "      <td>Scoring PG</td>\n",
       "      <td>1</td>\n",
       "    </tr>\n",
       "    <tr>\n",
       "      <th>3</th>\n",
       "      <td>Gonzaga</td>\n",
       "      <td>WCC</td>\n",
       "      <td>30</td>\n",
       "      <td>67.5</td>\n",
       "      <td>110.4</td>\n",
       "      <td>25.3</td>\n",
       "      <td>55.9</td>\n",
       "      <td>59.39</td>\n",
       "      <td>2.7</td>\n",
       "      <td>18.0</td>\n",
       "      <td>...</td>\n",
       "      <td>28.9333</td>\n",
       "      <td>0.6000</td>\n",
       "      <td>4.7333</td>\n",
       "      <td>5.3333</td>\n",
       "      <td>4.5333</td>\n",
       "      <td>1.9000</td>\n",
       "      <td>0.3333</td>\n",
       "      <td>14.3000</td>\n",
       "      <td>Combo G</td>\n",
       "      <td>1</td>\n",
       "    </tr>\n",
       "    <tr>\n",
       "      <th>4</th>\n",
       "      <td>Michigan</td>\n",
       "      <td>B10</td>\n",
       "      <td>27</td>\n",
       "      <td>66.1</td>\n",
       "      <td>105.5</td>\n",
       "      <td>18.6</td>\n",
       "      <td>53.4</td>\n",
       "      <td>56.59</td>\n",
       "      <td>3.4</td>\n",
       "      <td>16.8</td>\n",
       "      <td>...</td>\n",
       "      <td>30.7407</td>\n",
       "      <td>0.8889</td>\n",
       "      <td>4.7037</td>\n",
       "      <td>5.5926</td>\n",
       "      <td>1.0000</td>\n",
       "      <td>1.2593</td>\n",
       "      <td>0.5926</td>\n",
       "      <td>11.5556</td>\n",
       "      <td>Wing F</td>\n",
       "      <td>1</td>\n",
       "    </tr>\n",
       "  </tbody>\n",
       "</table>\n",
       "<p>5 rows × 49 columns</p>\n",
       "</div>"
      ],
      "text/plain": [
       "           AFFILIATION conf  GP  Min_per   Ortg   usg   eFG  TS_per  ORB_per  \\\n",
       "0       Oklahoma State  B12  27     78.0  104.1  28.6  51.6   57.46      2.3   \n",
       "1  Southern California  P12  33     83.6  119.4  23.4  59.5   62.40      9.7   \n",
       "2        Florida State  ACC  24     58.9  107.5  25.3  53.1   54.78      7.4   \n",
       "3              Gonzaga  WCC  30     67.5  110.4  25.3  55.9   59.39      2.7   \n",
       "4             Michigan  B10  27     66.1  105.5  18.6  53.4   56.59      3.4   \n",
       "\n",
       "   DRB_per  ...       mp    oreb    dreb    treb     ast     stl     blk  \\\n",
       "0     16.2  ...  35.4074  0.7037  5.4815  6.1852  3.4444  1.5926  0.7778   \n",
       "1     18.8  ...  33.9394  2.7273  5.9394  8.6667  2.3939  0.7879  2.8485   \n",
       "2     11.0  ...  24.7917  1.4583  2.5417  4.0000  4.0833  1.4583  0.4583   \n",
       "3     18.0  ...  28.9333  0.6000  4.7333  5.3333  4.5333  1.9000  0.3333   \n",
       "4     16.8  ...  30.7407  0.8889  4.7037  5.5926  1.0000  1.2593  0.5926   \n",
       "\n",
       "       pts    Position  Class  \n",
       "0  20.2222      Wing F      1  \n",
       "1  16.3636           C      1  \n",
       "2  10.3333  Scoring PG      1  \n",
       "3  14.3000     Combo G      1  \n",
       "4  11.5556      Wing F      1  \n",
       "\n",
       "[5 rows x 49 columns]"
      ]
     },
     "execution_count": 14,
     "metadata": {},
     "output_type": "execute_result"
    }
   ],
   "source": [
    "data.head()"
   ]
  },
  {
   "cell_type": "code",
   "execution_count": 17,
   "metadata": {},
   "outputs": [
    {
     "data": {
      "text/html": [
       "<div>\n",
       "<style scoped>\n",
       "    .dataframe tbody tr th:only-of-type {\n",
       "        vertical-align: middle;\n",
       "    }\n",
       "\n",
       "    .dataframe tbody tr th {\n",
       "        vertical-align: top;\n",
       "    }\n",
       "\n",
       "    .dataframe thead th {\n",
       "        text-align: right;\n",
       "    }\n",
       "</style>\n",
       "<table border=\"1\" class=\"dataframe\">\n",
       "  <thead>\n",
       "    <tr style=\"text-align: right;\">\n",
       "      <th></th>\n",
       "      <th>Rec Rank</th>\n",
       "      <th>dbpm</th>\n",
       "      <th>obpm</th>\n",
       "      <th>bpm</th>\n",
       "      <th>stops</th>\n",
       "      <th>dporpag</th>\n",
       "      <th>porpag</th>\n",
       "      <th>ftr</th>\n",
       "      <th>stl_per</th>\n",
       "      <th>twoPM</th>\n",
       "      <th>...</th>\n",
       "      <th>conf_P12</th>\n",
       "      <th>conf_Pat</th>\n",
       "      <th>conf_SB</th>\n",
       "      <th>conf_SC</th>\n",
       "      <th>conf_SEC</th>\n",
       "      <th>conf_SWAC</th>\n",
       "      <th>conf_Slnd</th>\n",
       "      <th>conf_Sum</th>\n",
       "      <th>conf_WAC</th>\n",
       "      <th>conf_WCC</th>\n",
       "    </tr>\n",
       "  </thead>\n",
       "  <tbody>\n",
       "    <tr>\n",
       "      <th>0</th>\n",
       "      <td>100.0</td>\n",
       "      <td>3.089750</td>\n",
       "      <td>3.19980</td>\n",
       "      <td>6.28955</td>\n",
       "      <td>207.722</td>\n",
       "      <td>4.47388</td>\n",
       "      <td>4.33352</td>\n",
       "      <td>38.9</td>\n",
       "      <td>2.5</td>\n",
       "      <td>114</td>\n",
       "      <td>...</td>\n",
       "      <td>0</td>\n",
       "      <td>0</td>\n",
       "      <td>0</td>\n",
       "      <td>0</td>\n",
       "      <td>0</td>\n",
       "      <td>0</td>\n",
       "      <td>0</td>\n",
       "      <td>0</td>\n",
       "      <td>0</td>\n",
       "      <td>0</td>\n",
       "    </tr>\n",
       "    <tr>\n",
       "      <th>1</th>\n",
       "      <td>99.6</td>\n",
       "      <td>7.466380</td>\n",
       "      <td>5.53482</td>\n",
       "      <td>13.00120</td>\n",
       "      <td>256.359</td>\n",
       "      <td>5.00113</td>\n",
       "      <td>5.41065</td>\n",
       "      <td>56.6</td>\n",
       "      <td>1.4</td>\n",
       "      <td>185</td>\n",
       "      <td>...</td>\n",
       "      <td>1</td>\n",
       "      <td>0</td>\n",
       "      <td>0</td>\n",
       "      <td>0</td>\n",
       "      <td>0</td>\n",
       "      <td>0</td>\n",
       "      <td>0</td>\n",
       "      <td>0</td>\n",
       "      <td>0</td>\n",
       "      <td>0</td>\n",
       "    </tr>\n",
       "    <tr>\n",
       "      <th>2</th>\n",
       "      <td>99.0</td>\n",
       "      <td>3.325160</td>\n",
       "      <td>4.94571</td>\n",
       "      <td>8.27087</td>\n",
       "      <td>119.770</td>\n",
       "      <td>3.00240</td>\n",
       "      <td>2.97007</td>\n",
       "      <td>33.8</td>\n",
       "      <td>3.4</td>\n",
       "      <td>87</td>\n",
       "      <td>...</td>\n",
       "      <td>0</td>\n",
       "      <td>0</td>\n",
       "      <td>0</td>\n",
       "      <td>0</td>\n",
       "      <td>0</td>\n",
       "      <td>0</td>\n",
       "      <td>0</td>\n",
       "      <td>0</td>\n",
       "      <td>0</td>\n",
       "      <td>0</td>\n",
       "    </tr>\n",
       "    <tr>\n",
       "      <th>3</th>\n",
       "      <td>98.2</td>\n",
       "      <td>4.473150</td>\n",
       "      <td>4.85317</td>\n",
       "      <td>9.32632</td>\n",
       "      <td>209.261</td>\n",
       "      <td>4.13889</td>\n",
       "      <td>3.79887</td>\n",
       "      <td>37.1</td>\n",
       "      <td>3.5</td>\n",
       "      <td>119</td>\n",
       "      <td>...</td>\n",
       "      <td>0</td>\n",
       "      <td>0</td>\n",
       "      <td>0</td>\n",
       "      <td>0</td>\n",
       "      <td>0</td>\n",
       "      <td>0</td>\n",
       "      <td>0</td>\n",
       "      <td>0</td>\n",
       "      <td>0</td>\n",
       "      <td>1</td>\n",
       "    </tr>\n",
       "    <tr>\n",
       "      <th>4</th>\n",
       "      <td>90.2</td>\n",
       "      <td>3.225720</td>\n",
       "      <td>2.63123</td>\n",
       "      <td>5.85695</td>\n",
       "      <td>171.133</td>\n",
       "      <td>4.12090</td>\n",
       "      <td>2.56112</td>\n",
       "      <td>21.6</td>\n",
       "      <td>2.4</td>\n",
       "      <td>72</td>\n",
       "      <td>...</td>\n",
       "      <td>0</td>\n",
       "      <td>0</td>\n",
       "      <td>0</td>\n",
       "      <td>0</td>\n",
       "      <td>0</td>\n",
       "      <td>0</td>\n",
       "      <td>0</td>\n",
       "      <td>0</td>\n",
       "      <td>0</td>\n",
       "      <td>0</td>\n",
       "    </tr>\n",
       "    <tr>\n",
       "      <th>...</th>\n",
       "      <td>...</td>\n",
       "      <td>...</td>\n",
       "      <td>...</td>\n",
       "      <td>...</td>\n",
       "      <td>...</td>\n",
       "      <td>...</td>\n",
       "      <td>...</td>\n",
       "      <td>...</td>\n",
       "      <td>...</td>\n",
       "      <td>...</td>\n",
       "      <td>...</td>\n",
       "      <td>...</td>\n",
       "      <td>...</td>\n",
       "      <td>...</td>\n",
       "      <td>...</td>\n",
       "      <td>...</td>\n",
       "      <td>...</td>\n",
       "      <td>...</td>\n",
       "      <td>...</td>\n",
       "      <td>...</td>\n",
       "      <td>...</td>\n",
       "    </tr>\n",
       "    <tr>\n",
       "      <th>1482</th>\n",
       "      <td>NaN</td>\n",
       "      <td>0.258865</td>\n",
       "      <td>4.90741</td>\n",
       "      <td>5.16627</td>\n",
       "      <td>143.825</td>\n",
       "      <td>3.43490</td>\n",
       "      <td>4.66241</td>\n",
       "      <td>25.7</td>\n",
       "      <td>3.9</td>\n",
       "      <td>87</td>\n",
       "      <td>...</td>\n",
       "      <td>0</td>\n",
       "      <td>0</td>\n",
       "      <td>0</td>\n",
       "      <td>0</td>\n",
       "      <td>0</td>\n",
       "      <td>0</td>\n",
       "      <td>0</td>\n",
       "      <td>0</td>\n",
       "      <td>0</td>\n",
       "      <td>1</td>\n",
       "    </tr>\n",
       "    <tr>\n",
       "      <th>1483</th>\n",
       "      <td>73.8</td>\n",
       "      <td>2.372230</td>\n",
       "      <td>3.18525</td>\n",
       "      <td>5.55748</td>\n",
       "      <td>261.974</td>\n",
       "      <td>4.40826</td>\n",
       "      <td>5.71878</td>\n",
       "      <td>77.0</td>\n",
       "      <td>1.3</td>\n",
       "      <td>205</td>\n",
       "      <td>...</td>\n",
       "      <td>0</td>\n",
       "      <td>0</td>\n",
       "      <td>0</td>\n",
       "      <td>0</td>\n",
       "      <td>0</td>\n",
       "      <td>0</td>\n",
       "      <td>0</td>\n",
       "      <td>0</td>\n",
       "      <td>0</td>\n",
       "      <td>0</td>\n",
       "    </tr>\n",
       "    <tr>\n",
       "      <th>1484</th>\n",
       "      <td>NaN</td>\n",
       "      <td>1.187370</td>\n",
       "      <td>7.93000</td>\n",
       "      <td>9.11737</td>\n",
       "      <td>247.094</td>\n",
       "      <td>3.56984</td>\n",
       "      <td>6.26497</td>\n",
       "      <td>24.7</td>\n",
       "      <td>3.3</td>\n",
       "      <td>197</td>\n",
       "      <td>...</td>\n",
       "      <td>0</td>\n",
       "      <td>0</td>\n",
       "      <td>0</td>\n",
       "      <td>0</td>\n",
       "      <td>0</td>\n",
       "      <td>0</td>\n",
       "      <td>0</td>\n",
       "      <td>0</td>\n",
       "      <td>0</td>\n",
       "      <td>0</td>\n",
       "    </tr>\n",
       "    <tr>\n",
       "      <th>1485</th>\n",
       "      <td>NaN</td>\n",
       "      <td>2.798950</td>\n",
       "      <td>2.36602</td>\n",
       "      <td>5.16497</td>\n",
       "      <td>165.533</td>\n",
       "      <td>2.83551</td>\n",
       "      <td>2.70618</td>\n",
       "      <td>59.5</td>\n",
       "      <td>0.8</td>\n",
       "      <td>126</td>\n",
       "      <td>...</td>\n",
       "      <td>0</td>\n",
       "      <td>0</td>\n",
       "      <td>0</td>\n",
       "      <td>0</td>\n",
       "      <td>0</td>\n",
       "      <td>0</td>\n",
       "      <td>0</td>\n",
       "      <td>0</td>\n",
       "      <td>0</td>\n",
       "      <td>0</td>\n",
       "    </tr>\n",
       "    <tr>\n",
       "      <th>1486</th>\n",
       "      <td>84.4</td>\n",
       "      <td>6.530560</td>\n",
       "      <td>3.86323</td>\n",
       "      <td>10.39380</td>\n",
       "      <td>245.353</td>\n",
       "      <td>4.75211</td>\n",
       "      <td>3.69312</td>\n",
       "      <td>53.8</td>\n",
       "      <td>2.5</td>\n",
       "      <td>145</td>\n",
       "      <td>...</td>\n",
       "      <td>0</td>\n",
       "      <td>0</td>\n",
       "      <td>0</td>\n",
       "      <td>0</td>\n",
       "      <td>0</td>\n",
       "      <td>0</td>\n",
       "      <td>0</td>\n",
       "      <td>0</td>\n",
       "      <td>0</td>\n",
       "      <td>0</td>\n",
       "    </tr>\n",
       "  </tbody>\n",
       "</table>\n",
       "<p>1487 rows × 189 columns</p>\n",
       "</div>"
      ],
      "text/plain": [
       "      Rec Rank      dbpm     obpm       bpm    stops  dporpag   porpag   ftr  \\\n",
       "0        100.0  3.089750  3.19980   6.28955  207.722  4.47388  4.33352  38.9   \n",
       "1         99.6  7.466380  5.53482  13.00120  256.359  5.00113  5.41065  56.6   \n",
       "2         99.0  3.325160  4.94571   8.27087  119.770  3.00240  2.97007  33.8   \n",
       "3         98.2  4.473150  4.85317   9.32632  209.261  4.13889  3.79887  37.1   \n",
       "4         90.2  3.225720  2.63123   5.85695  171.133  4.12090  2.56112  21.6   \n",
       "...        ...       ...      ...       ...      ...      ...      ...   ...   \n",
       "1482       NaN  0.258865  4.90741   5.16627  143.825  3.43490  4.66241  25.7   \n",
       "1483      73.8  2.372230  3.18525   5.55748  261.974  4.40826  5.71878  77.0   \n",
       "1484       NaN  1.187370  7.93000   9.11737  247.094  3.56984  6.26497  24.7   \n",
       "1485       NaN  2.798950  2.36602   5.16497  165.533  2.83551  2.70618  59.5   \n",
       "1486      84.4  6.530560  3.86323  10.39380  245.353  4.75211  3.69312  53.8   \n",
       "\n",
       "      stl_per  twoPM  ...  conf_P12  conf_Pat  conf_SB  conf_SC  conf_SEC  \\\n",
       "0         2.5    114  ...         0         0        0        0         0   \n",
       "1         1.4    185  ...         1         0        0        0         0   \n",
       "2         3.4     87  ...         0         0        0        0         0   \n",
       "3         3.5    119  ...         0         0        0        0         0   \n",
       "4         2.4     72  ...         0         0        0        0         0   \n",
       "...       ...    ...  ...       ...       ...      ...      ...       ...   \n",
       "1482      3.9     87  ...         0         0        0        0         0   \n",
       "1483      1.3    205  ...         0         0        0        0         0   \n",
       "1484      3.3    197  ...         0         0        0        0         0   \n",
       "1485      0.8    126  ...         0         0        0        0         0   \n",
       "1486      2.5    145  ...         0         0        0        0         0   \n",
       "\n",
       "      conf_SWAC  conf_Slnd  conf_Sum  conf_WAC  conf_WCC  \n",
       "0             0          0         0         0         0  \n",
       "1             0          0         0         0         0  \n",
       "2             0          0         0         0         0  \n",
       "3             0          0         0         0         1  \n",
       "4             0          0         0         0         0  \n",
       "...         ...        ...       ...       ...       ...  \n",
       "1482          0          0         0         0         1  \n",
       "1483          0          0         0         0         0  \n",
       "1484          0          0         0         0         0  \n",
       "1485          0          0         0         0         0  \n",
       "1486          0          0         0         0         0  \n",
       "\n",
       "[1487 rows x 189 columns]"
      ]
     },
     "execution_count": 17,
     "metadata": {},
     "output_type": "execute_result"
    }
   ],
   "source": [
    "# Selecting predictor variables based on EDA\n",
    "\n",
    "sel_col = ['Rec Rank', 'dbpm', 'obpm', 'bpm', 'stops', 'dporpag', 'porpag', 'ftr', \n",
    "'stl_per', 'twoPM', 'FTA', 'FTM', 'ORB_per', 'yr', 'AFFILIATION', 'conf', 'Class']\n",
    "\n",
    "df = data.loc[:, sel_col].copy()\n",
    "\n",
    "# Encoding categorical variables\n",
    "df_dummies = pd.get_dummies(df.loc[:, ['yr', 'AFFILIATION', 'conf']])\n",
    "df.drop(columns=['yr', 'AFFILIATION', 'conf'], inplace=True)\n",
    "\n",
    "# Merging dummies and numeric variables\n",
    "final_df = pd.concat([df, df_dummies], axis=1)\n",
    "\n",
    "final_df"
   ]
  },
  {
   "cell_type": "code",
   "execution_count": 41,
   "metadata": {},
   "outputs": [],
   "source": [
    "from sklearn.model_selection import train_test_split, cross_val_score\n",
    "from sklearn.linear_model import LogisticRegression\n",
    "from sklearn.tree import DecisionTreeClassifier\n",
    "from sklearn.ensemble import RandomForestClassifier\n",
    "from sklearn.metrics import plot_confusion_matrix, accuracy_score, precision_score, mean_squared_error\n",
    "from sklearn.neighbors import KNeighborsClassifier\n",
    "from sklearn.svm import SVC\n",
    "from sklearn.ensemble import ExtraTreesClassifier\n",
    "from sklearn.ensemble import GradientBoostingClassifier\n",
    "from sklearn.preprocessing import MinMaxScaler, Normalizer, StandardScaler"
   ]
  },
  {
   "cell_type": "code",
   "execution_count": 32,
   "metadata": {},
   "outputs": [],
   "source": [
    "# Setting features and target\n",
    "\n",
    "# Features\n",
    "X = final_df.drop(columns='Class', axis=1)\n",
    "# Target\n",
    "y = final_df['Class']"
   ]
  },
  {
   "cell_type": "code",
   "execution_count": 33,
   "metadata": {},
   "outputs": [],
   "source": [
    "X_train, X_test, y_train, y_test = train_test_split(X, y, test_size=0.25, random_state=42)"
   ]
  },
  {
   "cell_type": "code",
   "execution_count": 34,
   "metadata": {},
   "outputs": [],
   "source": [
    "# Filling missing data\n",
    "\n",
    "from sklearn.impute import SimpleImputer\n",
    "\n",
    "si = SimpleImputer(strategy='median')\n",
    "X_train_imputed = si.fit_transform(X_train)\n",
    "X_test_imputed = si.transform(X_test)"
   ]
  },
  {
   "cell_type": "code",
   "execution_count": 35,
   "metadata": {},
   "outputs": [],
   "source": [
    "# Creating a function to check model performances\n",
    "\n",
    "def check_scores(dct, model_type, model, X_train, y_train, X_test, y_test):\n",
    "    y_pred = model.predict(X_train)\n",
    "    y_pred_test = model.predict(X_test)\n",
    "\n",
    "    cv_score_train = cross_val_score(model, X_train, y_train, cv=5)\n",
    "    err_train = mean_squared_error(y_train, y_pred)\n",
    "    accuracy_train = accuracy_score(y_train, y_pred)\n",
    "    precision_train = precision_score(y_train, y_pred)\n",
    "\n",
    "    plot_confusion_matrix(model, X_train, y_train)\n",
    "    plt.show()\n",
    "\n",
    "    print(\"For Training Sets:   \")\n",
    "    print('Cross Validation Score: {}'.format(np.mean(cv_score_train)))\n",
    "    print('MSE Score: {}'.format(err_train))\n",
    "    print('Accuracy: {}'.format(accuracy_train))\n",
    "    print('Precision: {}'.format(precision_train))\n",
    "\n",
    "    print('---------------------------------------------------------')\n",
    "\n",
    "    cv_score_test = cross_val_score(model, X_test, y_test, cv=5)\n",
    "    err_test = mean_squared_error(y_test, y_pred_test)\n",
    "    accuracy_test = accuracy_score(y_test, y_pred_test)\n",
    "    precision_test = precision_score(y_test, y_pred_test)\n",
    "\n",
    "    plot_confusion_matrix(model, X_test, y_test)\n",
    "    plt.show()\n",
    "\n",
    "    print(\"For Test Sets:  \")\n",
    "    print('Cross Validation Score: {}'.format(np.mean(cv_score_test)))\n",
    "    print('MSE Score: {}'.format(err_test))\n",
    "    print('Accuracy: {}'.format(accuracy_test))\n",
    "    print('Precision: {}'.format(precision_test))\n",
    "\n",
    "    dct['Model Type'].append(model_type)\n",
    "    dct['CV Score Training'].append(np.mean(cv_score_train))\n",
    "    dct['MSE Training'].append(err_train)\n",
    "    dct['Accuracy Training'].append(accuracy_train)\n",
    "    dct['Precision Training'].append(precision_train)\n",
    "    dct['CV Score Test'].append(np.mean(cv_score_test))\n",
    "    dct['MSE Test'].append(err_test)\n",
    "    dct['Accuracy Test'].append(accuracy_test)\n",
    "    dct['Precision Test'].append(precision_test)\n",
    "    dct['Model'].append(model)\n",
    "\n"
   ]
  },
  {
   "cell_type": "code",
   "execution_count": 36,
   "metadata": {},
   "outputs": [],
   "source": [
    "models_dct = {'Model Type': [], 'CV Score Training': [], 'MSE Training': [], 'Accuracy Training': [],\n",
    "    'Precision Training': [], 'CV Score Test': [], 'MSE Test': [], 'Accuracy Test': [],\n",
    "    'Precision Test': [], 'Model': []}"
   ]
  },
  {
   "cell_type": "markdown",
   "metadata": {},
   "source": [
    "### Logistic Regression Model"
   ]
  },
  {
   "cell_type": "code",
   "execution_count": 37,
   "metadata": {},
   "outputs": [
    {
     "data": {
      "image/png": "[encoded data removed]",
      "text/plain": [
       "<Figure size 432x288 with 2 Axes>"
      ]
     },
     "metadata": {
      "needs_background": "light"
     },
     "output_type": "display_data"
    },
    {
     "name": "stdout",
     "output_type": "stream",
     "text": [
      "For Training Sets:   \n",
      "Cross Validation Score: 0.6215246636771301\n",
      "MSE Score: 0.3704035874439462\n",
      "Accuracy: 0.6295964125560538\n",
      "Precision: 0.6094986807387863\n",
      "---------------------------------------------------------\n"
     ]
    },
    {
     "data": {
      "image/png": "[encoded data removed]",
      "text/plain": [
       "<Figure size 432x288 with 2 Axes>"
      ]
     },
     "metadata": {
      "needs_background": "light"
     },
     "output_type": "display_data"
    },
    {
     "name": "stdout",
     "output_type": "stream",
     "text": [
      "For Test Sets:  \n",
      "Cross Validation Score: 0.5643603603603603\n",
      "MSE Score: 0.3629032258064516\n",
      "Accuracy: 0.6370967741935484\n",
      "Precision: 0.6417910447761194\n"
     ]
    }
   ],
   "source": [
    "logreg = LogisticRegression()\n",
    "logreg.fit(X_train_imputed, y_train)\n",
    "\n",
    "check_scores(models_dct, 'logreg', logreg, X_train_imputed, y_train, X_test_imputed, y_test)"
   ]
  },
  {
   "cell_type": "markdown",
   "metadata": {},
   "source": [
    "### Decision Tree Model"
   ]
  },
  {
   "cell_type": "code",
   "execution_count": 38,
   "metadata": {},
   "outputs": [
    {
     "data": {
      "image/png": "[encoded data removed]",
      "text/plain": [
       "<Figure size 432x288 with 2 Axes>"
      ]
     },
     "metadata": {
      "needs_background": "light"
     },
     "output_type": "display_data"
    },
    {
     "name": "stdout",
     "output_type": "stream",
     "text": [
      "For Training Sets:   \n",
      "Cross Validation Score: 0.6295964125560538\n",
      "MSE Score: 0.0\n",
      "Accuracy: 1.0\n",
      "Precision: 1.0\n",
      "---------------------------------------------------------\n"
     ]
    },
    {
     "data": {
      "image/png": "[encoded data removed]",
      "text/plain": [
       "<Figure size 432x288 with 2 Axes>"
      ]
     },
     "metadata": {
      "needs_background": "light"
     },
     "output_type": "display_data"
    },
    {
     "name": "stdout",
     "output_type": "stream",
     "text": [
      "For Test Sets:  \n",
      "Cross Validation Score: 0.5723963963963963\n",
      "MSE Score: 0.34946236559139787\n",
      "Accuracy: 0.6505376344086021\n",
      "Precision: 0.6303030303030303\n"
     ]
    }
   ],
   "source": [
    "dt = DecisionTreeClassifier()\n",
    "dt.fit(X_train_imputed, y_train)\n",
    "\n",
    "check_scores(models_dct, 'dt', dt, X_train_imputed, y_train, X_test_imputed, y_test)"
   ]
  },
  {
   "cell_type": "markdown",
   "metadata": {},
   "source": [
    "### Random Forest Model"
   ]
  },
  {
   "cell_type": "code",
   "execution_count": 39,
   "metadata": {},
   "outputs": [
    {
     "data": {
      "image/png": "[encoded data removed]",
      "text/plain": [
       "<Figure size 432x288 with 2 Axes>"
      ]
     },
     "metadata": {
      "needs_background": "light"
     },
     "output_type": "display_data"
    },
    {
     "name": "stdout",
     "output_type": "stream",
     "text": [
      "For Training Sets:   \n",
      "Cross Validation Score: 0.6735426008968609\n",
      "MSE Score: 0.0\n",
      "Accuracy: 1.0\n",
      "Precision: 1.0\n",
      "---------------------------------------------------------\n"
     ]
    },
    {
     "data": {
      "image/png": "[encoded data removed]",
      "text/plain": [
       "<Figure size 432x288 with 2 Axes>"
      ]
     },
     "metadata": {
      "needs_background": "light"
     },
     "output_type": "display_data"
    },
    {
     "name": "stdout",
     "output_type": "stream",
     "text": [
      "For Test Sets:  \n",
      "Cross Validation Score: 0.645045045045045\n",
      "MSE Score: 0.2956989247311828\n",
      "Accuracy: 0.7043010752688172\n",
      "Precision: 0.7404580152671756\n"
     ]
    }
   ],
   "source": [
    "rf = RandomForestClassifier()\n",
    "rf.fit(X_train_imputed, y_train)\n",
    "\n",
    "check_scores(models_dct, 'rf', rf, X_train_imputed, y_train, X_test_imputed, y_test)"
   ]
  },
  {
   "cell_type": "markdown",
   "metadata": {},
   "source": [
    "### K Nearest Neighbor Model"
   ]
  },
  {
   "cell_type": "code",
   "execution_count": 30,
   "metadata": {},
   "outputs": [
    {
     "data": {
      "image/png": "[encoded data removed]",
      "text/plain": [
       "<Figure size 432x288 with 2 Axes>"
      ]
     },
     "metadata": {
      "needs_background": "light"
     },
     "output_type": "display_data"
    },
    {
     "name": "stdout",
     "output_type": "stream",
     "text": [
      "For Training Sets:   \n",
      "Cross Validation Score: 0.5623318385650224\n",
      "MSE Score: 0.2699551569506726\n",
      "Accuracy: 0.7300448430493274\n",
      "Precision: 0.7262180974477959\n",
      "---------------------------------------------------------\n"
     ]
    },
    {
     "data": {
      "image/png": "[encoded data removed]",
      "text/plain": [
       "<Figure size 432x288 with 2 Axes>"
      ]
     },
     "metadata": {
      "needs_background": "light"
     },
     "output_type": "display_data"
    },
    {
     "name": "stdout",
     "output_type": "stream",
     "text": [
      "For Test Sets:  \n",
      "Cross Validation Score: 0.5351351351351352\n",
      "MSE Score: 0.4596774193548387\n",
      "Accuracy: 0.5403225806451613\n",
      "Precision: 0.5068493150684932\n"
     ]
    }
   ],
   "source": [
    "knn = KNeighborsClassifier()\n",
    "knn.fit(X_train_imputed, y_train)\n",
    "\n",
    "check_scores(models_dct, 'knn', knn, X_train_imputed, y_train, X_test_imputed, y_test)"
   ]
  },
  {
   "cell_type": "markdown",
   "metadata": {},
   "source": [
    "### Support Vector Classifier Model"
   ]
  },
  {
   "cell_type": "code",
   "execution_count": 40,
   "metadata": {},
   "outputs": [
    {
     "data": {
      "image/png": "[encoded data removed]",
      "text/plain": [
       "<Figure size 432x288 with 2 Axes>"
      ]
     },
     "metadata": {
      "needs_background": "light"
     },
     "output_type": "display_data"
    },
    {
     "name": "stdout",
     "output_type": "stream",
     "text": [
      "For Training Sets:   \n",
      "Cross Validation Score: 0.5874439461883407\n",
      "MSE Score: 0.4062780269058296\n",
      "Accuracy: 0.5937219730941704\n",
      "Precision: 0.7047619047619048\n",
      "---------------------------------------------------------\n"
     ]
    },
    {
     "data": {
      "image/png": "[encoded data removed]",
      "text/plain": [
       "<Figure size 432x288 with 2 Axes>"
      ]
     },
     "metadata": {
      "needs_background": "light"
     },
     "output_type": "display_data"
    },
    {
     "name": "stdout",
     "output_type": "stream",
     "text": [
      "For Test Sets:  \n",
      "Cross Validation Score: 0.5723243243243243\n",
      "MSE Score: 0.41397849462365593\n",
      "Accuracy: 0.5860215053763441\n",
      "Precision: 0.7021276595744681\n"
     ]
    }
   ],
   "source": [
    "svc = SVC()\n",
    "svc.fit(X_train_imputed, y_train)\n",
    "\n",
    "check_scores(models_dct, 'svc', svc, X_train_imputed, y_train, X_test_imputed, y_test)"
   ]
  },
  {
   "cell_type": "markdown",
   "metadata": {},
   "source": [
    "### Extra Trees Classifier Model"
   ]
  },
  {
   "cell_type": "code",
   "execution_count": 42,
   "metadata": {},
   "outputs": [
    {
     "data": {
      "image/png": "[encoded data removed]",
      "text/plain": [
       "<Figure size 432x288 with 2 Axes>"
      ]
     },
     "metadata": {
      "needs_background": "light"
     },
     "output_type": "display_data"
    },
    {
     "name": "stdout",
     "output_type": "stream",
     "text": [
      "For Training Sets:   \n",
      "Cross Validation Score: 0.6878923766816143\n",
      "MSE Score: 0.0\n",
      "Accuracy: 1.0\n",
      "Precision: 1.0\n",
      "---------------------------------------------------------\n"
     ]
    },
    {
     "data": {
      "image/png": "[encoded data removed]",
      "text/plain": [
       "<Figure size 432x288 with 2 Axes>"
      ]
     },
     "metadata": {
      "needs_background": "light"
     },
     "output_type": "display_data"
    },
    {
     "name": "stdout",
     "output_type": "stream",
     "text": [
      "For Test Sets:  \n",
      "Cross Validation Score: 0.6556756756756756\n",
      "MSE Score: 0.3010752688172043\n",
      "Accuracy: 0.6989247311827957\n",
      "Precision: 0.6993464052287581\n"
     ]
    }
   ],
   "source": [
    "et = ExtraTreesClassifier()\n",
    "et.fit(X_train_imputed, y_train)\n",
    "\n",
    "check_scores(models_dct, 'et', et, X_train_imputed, y_train, X_test_imputed, y_test)"
   ]
  },
  {
   "cell_type": "markdown",
   "metadata": {},
   "source": [
    "### Gradient Boosting Classifier Model"
   ]
  },
  {
   "cell_type": "code",
   "execution_count": 43,
   "metadata": {},
   "outputs": [
    {
     "data": {
      "image/png": "[encoded data removed]",
      "text/plain": [
       "<Figure size 432x288 with 2 Axes>"
      ]
     },
     "metadata": {
      "needs_background": "light"
     },
     "output_type": "display_data"
    },
    {
     "name": "stdout",
     "output_type": "stream",
     "text": [
      "For Training Sets:   \n",
      "Cross Validation Score: 0.7085201793721972\n",
      "MSE Score: 0.16591928251121077\n",
      "Accuracy: 0.8340807174887892\n",
      "Precision: 0.9146666666666666\n",
      "---------------------------------------------------------\n"
     ]
    },
    {
     "data": {
      "image/png": "[encoded data removed]",
      "text/plain": [
       "<Figure size 432x288 with 2 Axes>"
      ]
     },
     "metadata": {
      "needs_background": "light"
     },
     "output_type": "display_data"
    },
    {
     "name": "stdout",
     "output_type": "stream",
     "text": [
      "For Test Sets:  \n",
      "Cross Validation Score: 0.6774414414414414\n",
      "MSE Score: 0.25\n",
      "Accuracy: 0.75\n",
      "Precision: 0.8174603174603174\n"
     ]
    }
   ],
   "source": [
    "gbc = GradientBoostingClassifier()\n",
    "gbc.fit(X_train_imputed, y_train)\n",
    "\n",
    "check_scores(models_dct, 'gbc', gbc, X_train_imputed, y_train, X_test_imputed, y_test)"
   ]
  },
  {
   "cell_type": "markdown",
   "metadata": {},
   "source": [
    "### Model Performance Analysis"
   ]
  },
  {
   "cell_type": "code",
   "execution_count": 46,
   "metadata": {},
   "outputs": [
    {
     "data": {
      "text/html": [
       "<div>\n",
       "<style scoped>\n",
       "    .dataframe tbody tr th:only-of-type {\n",
       "        vertical-align: middle;\n",
       "    }\n",
       "\n",
       "    .dataframe tbody tr th {\n",
       "        vertical-align: top;\n",
       "    }\n",
       "\n",
       "    .dataframe thead th {\n",
       "        text-align: right;\n",
       "    }\n",
       "</style>\n",
       "<table border=\"1\" class=\"dataframe\">\n",
       "  <thead>\n",
       "    <tr style=\"text-align: right;\">\n",
       "      <th></th>\n",
       "      <th>Model Type</th>\n",
       "      <th>CV Score Training</th>\n",
       "      <th>MSE Training</th>\n",
       "      <th>Accuracy Training</th>\n",
       "      <th>Precision Training</th>\n",
       "      <th>CV Score Test</th>\n",
       "      <th>MSE Test</th>\n",
       "      <th>Accuracy Test</th>\n",
       "      <th>Precision Test</th>\n",
       "      <th>Model</th>\n",
       "    </tr>\n",
       "  </thead>\n",
       "  <tbody>\n",
       "    <tr>\n",
       "      <th>5</th>\n",
       "      <td>gbc</td>\n",
       "      <td>0.708520</td>\n",
       "      <td>0.165919</td>\n",
       "      <td>0.834081</td>\n",
       "      <td>0.914667</td>\n",
       "      <td>0.677441</td>\n",
       "      <td>0.250000</td>\n",
       "      <td>0.750000</td>\n",
       "      <td>0.817460</td>\n",
       "      <td>([DecisionTreeRegressor(criterion='friedman_ms...</td>\n",
       "    </tr>\n",
       "    <tr>\n",
       "      <th>2</th>\n",
       "      <td>rf</td>\n",
       "      <td>0.673543</td>\n",
       "      <td>0.000000</td>\n",
       "      <td>1.000000</td>\n",
       "      <td>1.000000</td>\n",
       "      <td>0.645045</td>\n",
       "      <td>0.295699</td>\n",
       "      <td>0.704301</td>\n",
       "      <td>0.740458</td>\n",
       "      <td>(DecisionTreeClassifier(max_features='auto', r...</td>\n",
       "    </tr>\n",
       "    <tr>\n",
       "      <th>4</th>\n",
       "      <td>et</td>\n",
       "      <td>0.687892</td>\n",
       "      <td>0.000000</td>\n",
       "      <td>1.000000</td>\n",
       "      <td>1.000000</td>\n",
       "      <td>0.655676</td>\n",
       "      <td>0.301075</td>\n",
       "      <td>0.698925</td>\n",
       "      <td>0.699346</td>\n",
       "      <td>(ExtraTreeClassifier(random_state=238285951), ...</td>\n",
       "    </tr>\n",
       "    <tr>\n",
       "      <th>1</th>\n",
       "      <td>dt</td>\n",
       "      <td>0.629596</td>\n",
       "      <td>0.000000</td>\n",
       "      <td>1.000000</td>\n",
       "      <td>1.000000</td>\n",
       "      <td>0.572396</td>\n",
       "      <td>0.349462</td>\n",
       "      <td>0.650538</td>\n",
       "      <td>0.630303</td>\n",
       "      <td>DecisionTreeClassifier()</td>\n",
       "    </tr>\n",
       "    <tr>\n",
       "      <th>0</th>\n",
       "      <td>logreg</td>\n",
       "      <td>0.621525</td>\n",
       "      <td>0.370404</td>\n",
       "      <td>0.629596</td>\n",
       "      <td>0.609499</td>\n",
       "      <td>0.564360</td>\n",
       "      <td>0.362903</td>\n",
       "      <td>0.637097</td>\n",
       "      <td>0.641791</td>\n",
       "      <td>LogisticRegression()</td>\n",
       "    </tr>\n",
       "    <tr>\n",
       "      <th>3</th>\n",
       "      <td>svc</td>\n",
       "      <td>0.587444</td>\n",
       "      <td>0.406278</td>\n",
       "      <td>0.593722</td>\n",
       "      <td>0.704762</td>\n",
       "      <td>0.572324</td>\n",
       "      <td>0.413978</td>\n",
       "      <td>0.586022</td>\n",
       "      <td>0.702128</td>\n",
       "      <td>SVC()</td>\n",
       "    </tr>\n",
       "  </tbody>\n",
       "</table>\n",
       "</div>"
      ],
      "text/plain": [
       "  Model Type  CV Score Training  MSE Training  Accuracy Training  \\\n",
       "5        gbc           0.708520      0.165919           0.834081   \n",
       "2         rf           0.673543      0.000000           1.000000   \n",
       "4         et           0.687892      0.000000           1.000000   \n",
       "1         dt           0.629596      0.000000           1.000000   \n",
       "0     logreg           0.621525      0.370404           0.629596   \n",
       "3        svc           0.587444      0.406278           0.593722   \n",
       "\n",
       "   Precision Training  CV Score Test  MSE Test  Accuracy Test  Precision Test  \\\n",
       "5            0.914667       0.677441  0.250000       0.750000        0.817460   \n",
       "2            1.000000       0.645045  0.295699       0.704301        0.740458   \n",
       "4            1.000000       0.655676  0.301075       0.698925        0.699346   \n",
       "1            1.000000       0.572396  0.349462       0.650538        0.630303   \n",
       "0            0.609499       0.564360  0.362903       0.637097        0.641791   \n",
       "3            0.704762       0.572324  0.413978       0.586022        0.702128   \n",
       "\n",
       "                                               Model  \n",
       "5  ([DecisionTreeRegressor(criterion='friedman_ms...  \n",
       "2  (DecisionTreeClassifier(max_features='auto', r...  \n",
       "4  (ExtraTreeClassifier(random_state=238285951), ...  \n",
       "1                           DecisionTreeClassifier()  \n",
       "0                               LogisticRegression()  \n",
       "3                                              SVC()  "
      ]
     },
     "execution_count": 46,
     "metadata": {},
     "output_type": "execute_result"
    }
   ],
   "source": [
    "# Top Accuracy Scores\n",
    "pd.DataFrame(models_dct).sort_values(by='Accuracy Test', ascending=False)"
   ]
  },
  {
   "cell_type": "code",
   "execution_count": 48,
   "metadata": {},
   "outputs": [
    {
     "data": {
      "text/html": [
       "<div>\n",
       "<style scoped>\n",
       "    .dataframe tbody tr th:only-of-type {\n",
       "        vertical-align: middle;\n",
       "    }\n",
       "\n",
       "    .dataframe tbody tr th {\n",
       "        vertical-align: top;\n",
       "    }\n",
       "\n",
       "    .dataframe thead th {\n",
       "        text-align: right;\n",
       "    }\n",
       "</style>\n",
       "<table border=\"1\" class=\"dataframe\">\n",
       "  <thead>\n",
       "    <tr style=\"text-align: right;\">\n",
       "      <th></th>\n",
       "      <th>Model Type</th>\n",
       "      <th>CV Score Training</th>\n",
       "      <th>MSE Training</th>\n",
       "      <th>Accuracy Training</th>\n",
       "      <th>Precision Training</th>\n",
       "      <th>CV Score Test</th>\n",
       "      <th>MSE Test</th>\n",
       "      <th>Accuracy Test</th>\n",
       "      <th>Precision Test</th>\n",
       "      <th>Model</th>\n",
       "    </tr>\n",
       "  </thead>\n",
       "  <tbody>\n",
       "    <tr>\n",
       "      <th>5</th>\n",
       "      <td>gbc</td>\n",
       "      <td>0.708520</td>\n",
       "      <td>0.165919</td>\n",
       "      <td>0.834081</td>\n",
       "      <td>0.914667</td>\n",
       "      <td>0.677441</td>\n",
       "      <td>0.250000</td>\n",
       "      <td>0.750000</td>\n",
       "      <td>0.817460</td>\n",
       "      <td>([DecisionTreeRegressor(criterion='friedman_ms...</td>\n",
       "    </tr>\n",
       "    <tr>\n",
       "      <th>4</th>\n",
       "      <td>et</td>\n",
       "      <td>0.687892</td>\n",
       "      <td>0.000000</td>\n",
       "      <td>1.000000</td>\n",
       "      <td>1.000000</td>\n",
       "      <td>0.655676</td>\n",
       "      <td>0.301075</td>\n",
       "      <td>0.698925</td>\n",
       "      <td>0.699346</td>\n",
       "      <td>(ExtraTreeClassifier(random_state=238285951), ...</td>\n",
       "    </tr>\n",
       "    <tr>\n",
       "      <th>2</th>\n",
       "      <td>rf</td>\n",
       "      <td>0.673543</td>\n",
       "      <td>0.000000</td>\n",
       "      <td>1.000000</td>\n",
       "      <td>1.000000</td>\n",
       "      <td>0.645045</td>\n",
       "      <td>0.295699</td>\n",
       "      <td>0.704301</td>\n",
       "      <td>0.740458</td>\n",
       "      <td>(DecisionTreeClassifier(max_features='auto', r...</td>\n",
       "    </tr>\n",
       "    <tr>\n",
       "      <th>1</th>\n",
       "      <td>dt</td>\n",
       "      <td>0.629596</td>\n",
       "      <td>0.000000</td>\n",
       "      <td>1.000000</td>\n",
       "      <td>1.000000</td>\n",
       "      <td>0.572396</td>\n",
       "      <td>0.349462</td>\n",
       "      <td>0.650538</td>\n",
       "      <td>0.630303</td>\n",
       "      <td>DecisionTreeClassifier()</td>\n",
       "    </tr>\n",
       "    <tr>\n",
       "      <th>3</th>\n",
       "      <td>svc</td>\n",
       "      <td>0.587444</td>\n",
       "      <td>0.406278</td>\n",
       "      <td>0.593722</td>\n",
       "      <td>0.704762</td>\n",
       "      <td>0.572324</td>\n",
       "      <td>0.413978</td>\n",
       "      <td>0.586022</td>\n",
       "      <td>0.702128</td>\n",
       "      <td>SVC()</td>\n",
       "    </tr>\n",
       "    <tr>\n",
       "      <th>0</th>\n",
       "      <td>logreg</td>\n",
       "      <td>0.621525</td>\n",
       "      <td>0.370404</td>\n",
       "      <td>0.629596</td>\n",
       "      <td>0.609499</td>\n",
       "      <td>0.564360</td>\n",
       "      <td>0.362903</td>\n",
       "      <td>0.637097</td>\n",
       "      <td>0.641791</td>\n",
       "      <td>LogisticRegression()</td>\n",
       "    </tr>\n",
       "  </tbody>\n",
       "</table>\n",
       "</div>"
      ],
      "text/plain": [
       "  Model Type  CV Score Training  MSE Training  Accuracy Training  \\\n",
       "5        gbc           0.708520      0.165919           0.834081   \n",
       "4         et           0.687892      0.000000           1.000000   \n",
       "2         rf           0.673543      0.000000           1.000000   \n",
       "1         dt           0.629596      0.000000           1.000000   \n",
       "3        svc           0.587444      0.406278           0.593722   \n",
       "0     logreg           0.621525      0.370404           0.629596   \n",
       "\n",
       "   Precision Training  CV Score Test  MSE Test  Accuracy Test  Precision Test  \\\n",
       "5            0.914667       0.677441  0.250000       0.750000        0.817460   \n",
       "4            1.000000       0.655676  0.301075       0.698925        0.699346   \n",
       "2            1.000000       0.645045  0.295699       0.704301        0.740458   \n",
       "1            1.000000       0.572396  0.349462       0.650538        0.630303   \n",
       "3            0.704762       0.572324  0.413978       0.586022        0.702128   \n",
       "0            0.609499       0.564360  0.362903       0.637097        0.641791   \n",
       "\n",
       "                                               Model  \n",
       "5  ([DecisionTreeRegressor(criterion='friedman_ms...  \n",
       "4  (ExtraTreeClassifier(random_state=238285951), ...  \n",
       "2  (DecisionTreeClassifier(max_features='auto', r...  \n",
       "1                           DecisionTreeClassifier()  \n",
       "3                                              SVC()  \n",
       "0                               LogisticRegression()  "
      ]
     },
     "execution_count": 48,
     "metadata": {},
     "output_type": "execute_result"
    }
   ],
   "source": [
    "# Top Cross Validation Scores\n",
    "pd.DataFrame(models_dct).sort_values(by='CV Score Test', ascending=False)"
   ]
  },
  {
   "cell_type": "markdown",
   "metadata": {},
   "source": [
    "Top 3 Models: Grandient Boosting, Random Forest, Extra Trees"
   ]
  },
  {
   "cell_type": "markdown",
   "metadata": {},
   "source": [
    "### Stacking Model"
   ]
  },
  {
   "cell_type": "code",
   "execution_count": 49,
   "metadata": {},
   "outputs": [
    {
     "data": {
      "image/png": "[encoded data removed]",
      "text/plain": [
       "<Figure size 432x288 with 2 Axes>"
      ]
     },
     "metadata": {
      "needs_background": "light"
     },
     "output_type": "display_data"
    },
    {
     "name": "stdout",
     "output_type": "stream",
     "text": [
      "For Training Sets:   \n",
      "Cross Validation Score: 0.7130044843049327\n",
      "MSE Score: 0.0026905829596412557\n",
      "Accuracy: 0.9973094170403587\n",
      "Precision: 0.9939879759519038\n",
      "---------------------------------------------------------\n"
     ]
    },
    {
     "data": {
      "image/png": "[encoded data removed]",
      "text/plain": [
       "<Figure size 432x288 with 2 Axes>"
      ]
     },
     "metadata": {
      "needs_background": "light"
     },
     "output_type": "display_data"
    },
    {
     "name": "stdout",
     "output_type": "stream",
     "text": [
      "For Test Sets:  \n",
      "Cross Validation Score: 0.6879639639639639\n",
      "MSE Score: 0.25806451612903225\n",
      "Accuracy: 0.7419354838709677\n",
      "Precision: 0.7730496453900709\n"
     ]
    }
   ],
   "source": [
    "from sklearn.ensemble import StackingClassifier\n",
    "\n",
    "estimator_list = [('gbc', gbc), ('rf', rf), ('et', et)]\n",
    "\n",
    "stacked = StackingClassifier(estimators=estimator_list, final_estimator=LogisticRegression())\n",
    "\n",
    "stacked.fit(X_train_imputed, y_train)\n",
    "\n",
    "check_scores(models_dct, 'stacked', stacked, X_train_imputed, y_train, X_test_imputed, y_test)"
   ]
  },
  {
   "cell_type": "markdown",
   "metadata": {},
   "source": [
    "Insights - Stacked\n",
    "\n",
    "Not much of an improvement from stacked model."
   ]
  },
  {
   "cell_type": "markdown",
   "metadata": {},
   "source": [
    "## ADA Boosting\n",
    "\n",
    "Use AdaBoosterClassifier on the top three models to see if there's improvement"
   ]
  },
  {
   "cell_type": "markdown",
   "metadata": {},
   "source": [
    "### Random Forest Boosted Model"
   ]
  },
  {
   "cell_type": "code",
   "execution_count": 50,
   "metadata": {},
   "outputs": [
    {
     "data": {
      "image/png": "[encoded data removed]",
      "text/plain": [
       "<Figure size 432x288 with 2 Axes>"
      ]
     },
     "metadata": {
      "needs_background": "light"
     },
     "output_type": "display_data"
    },
    {
     "name": "stdout",
     "output_type": "stream",
     "text": [
      "For Training Sets:   \n",
      "Cross Validation Score: 0.6735426008968609\n",
      "MSE Score: 0.0\n",
      "Accuracy: 1.0\n",
      "Precision: 1.0\n",
      "---------------------------------------------------------\n"
     ]
    },
    {
     "data": {
      "image/png": "[encoded data removed]",
      "text/plain": [
       "<Figure size 432x288 with 2 Axes>"
      ]
     },
     "metadata": {
      "needs_background": "light"
     },
     "output_type": "display_data"
    },
    {
     "name": "stdout",
     "output_type": "stream",
     "text": [
      "For Test Sets:  \n",
      "Cross Validation Score: 0.6773693693693693\n",
      "MSE Score: 0.2903225806451613\n",
      "Accuracy: 0.7096774193548387\n",
      "Precision: 0.7407407407407407\n"
     ]
    }
   ],
   "source": [
    "from sklearn.ensemble import AdaBoostClassifier\n",
    "ada_rf = AdaBoostClassifier(base_estimator=RandomForestClassifier())\n",
    "\n",
    "ada_rf.fit(X_train_imputed, y_train)\n",
    "\n",
    "check_scores(models_dct, 'ada_rf', ada_rf, X_train_imputed, y_train, X_test_imputed, y_test)"
   ]
  },
  {
   "cell_type": "markdown",
   "metadata": {},
   "source": [
    "### Gradient Boosting Classifier Boosted Model"
   ]
  },
  {
   "cell_type": "code",
   "execution_count": 51,
   "metadata": {},
   "outputs": [
    {
     "data": {
      "image/png": "[encoded data removed]",
      "text/plain": [
       "<Figure size 432x288 with 2 Axes>"
      ]
     },
     "metadata": {
      "needs_background": "light"
     },
     "output_type": "display_data"
    },
    {
     "name": "stdout",
     "output_type": "stream",
     "text": [
      "For Training Sets:   \n",
      "Cross Validation Score: 0.7201793721973093\n",
      "MSE Score: 0.0\n",
      "Accuracy: 1.0\n",
      "Precision: 1.0\n",
      "---------------------------------------------------------\n"
     ]
    },
    {
     "data": {
      "image/png": "[encoded data removed]",
      "text/plain": [
       "<Figure size 432x288 with 2 Axes>"
      ]
     },
     "metadata": {
      "needs_background": "light"
     },
     "output_type": "display_data"
    },
    {
     "name": "stdout",
     "output_type": "stream",
     "text": [
      "For Test Sets:  \n",
      "Cross Validation Score: 0.7068468468468468\n",
      "MSE Score: 0.23387096774193547\n",
      "Accuracy: 0.7661290322580645\n",
      "Precision: 0.76875\n"
     ]
    }
   ],
   "source": [
    "\n",
    "ada_gbc = AdaBoostClassifier(base_estimator=GradientBoostingClassifier())\n",
    "\n",
    "ada_gbc.fit(X_train_imputed, y_train)\n",
    "\n",
    "check_scores(models_dct, 'ada_gbc', ada_gbc, X_train_imputed, y_train, X_test_imputed, y_test)"
   ]
  },
  {
   "cell_type": "markdown",
   "metadata": {},
   "source": [
    "### Extra Trees Boosted Model"
   ]
  },
  {
   "cell_type": "code",
   "execution_count": 52,
   "metadata": {},
   "outputs": [
    {
     "data": {
      "image/png": "[encoded data removed]",
      "text/plain": [
       "<Figure size 432x288 with 2 Axes>"
      ]
     },
     "metadata": {
      "needs_background": "light"
     },
     "output_type": "display_data"
    },
    {
     "name": "stdout",
     "output_type": "stream",
     "text": [
      "For Training Sets:   \n",
      "Cross Validation Score: 0.6708520179372197\n",
      "MSE Score: 0.0\n",
      "Accuracy: 1.0\n",
      "Precision: 1.0\n",
      "---------------------------------------------------------\n"
     ]
    },
    {
     "data": {
      "image/png": "[encoded data removed]",
      "text/plain": [
       "<Figure size 432x288 with 2 Axes>"
      ]
     },
     "metadata": {
      "needs_background": "light"
     },
     "output_type": "display_data"
    },
    {
     "name": "stdout",
     "output_type": "stream",
     "text": [
      "For Test Sets:  \n",
      "Cross Validation Score: 0.6691891891891892\n",
      "MSE Score: 0.2956989247311828\n",
      "Accuracy: 0.7043010752688172\n",
      "Precision: 0.7172413793103448\n"
     ]
    }
   ],
   "source": [
    "ada_et = AdaBoostClassifier(base_estimator=ExtraTreesClassifier())\n",
    "\n",
    "ada_et.fit(X_train_imputed, y_train)\n",
    "\n",
    "check_scores(models_dct, 'ada_et', ada_et, X_train_imputed, y_train, X_test_imputed, y_test)"
   ]
  },
  {
   "cell_type": "code",
   "execution_count": 53,
   "metadata": {},
   "outputs": [
    {
     "data": {
      "text/html": [
       "<div>\n",
       "<style scoped>\n",
       "    .dataframe tbody tr th:only-of-type {\n",
       "        vertical-align: middle;\n",
       "    }\n",
       "\n",
       "    .dataframe tbody tr th {\n",
       "        vertical-align: top;\n",
       "    }\n",
       "\n",
       "    .dataframe thead th {\n",
       "        text-align: right;\n",
       "    }\n",
       "</style>\n",
       "<table border=\"1\" class=\"dataframe\">\n",
       "  <thead>\n",
       "    <tr style=\"text-align: right;\">\n",
       "      <th></th>\n",
       "      <th>Model Type</th>\n",
       "      <th>CV Score Training</th>\n",
       "      <th>MSE Training</th>\n",
       "      <th>Accuracy Training</th>\n",
       "      <th>Precision Training</th>\n",
       "      <th>CV Score Test</th>\n",
       "      <th>MSE Test</th>\n",
       "      <th>Accuracy Test</th>\n",
       "      <th>Precision Test</th>\n",
       "      <th>Model</th>\n",
       "    </tr>\n",
       "  </thead>\n",
       "  <tbody>\n",
       "    <tr>\n",
       "      <th>8</th>\n",
       "      <td>ada_gbc</td>\n",
       "      <td>0.720179</td>\n",
       "      <td>0.000000</td>\n",
       "      <td>1.000000</td>\n",
       "      <td>1.000000</td>\n",
       "      <td>0.706847</td>\n",
       "      <td>0.233871</td>\n",
       "      <td>0.766129</td>\n",
       "      <td>0.768750</td>\n",
       "      <td>(([DecisionTreeRegressor(criterion='friedman_m...</td>\n",
       "    </tr>\n",
       "    <tr>\n",
       "      <th>5</th>\n",
       "      <td>gbc</td>\n",
       "      <td>0.708520</td>\n",
       "      <td>0.165919</td>\n",
       "      <td>0.834081</td>\n",
       "      <td>0.914667</td>\n",
       "      <td>0.677441</td>\n",
       "      <td>0.250000</td>\n",
       "      <td>0.750000</td>\n",
       "      <td>0.817460</td>\n",
       "      <td>([DecisionTreeRegressor(criterion='friedman_ms...</td>\n",
       "    </tr>\n",
       "    <tr>\n",
       "      <th>6</th>\n",
       "      <td>stacked</td>\n",
       "      <td>0.713004</td>\n",
       "      <td>0.002691</td>\n",
       "      <td>0.997309</td>\n",
       "      <td>0.993988</td>\n",
       "      <td>0.687964</td>\n",
       "      <td>0.258065</td>\n",
       "      <td>0.741935</td>\n",
       "      <td>0.773050</td>\n",
       "      <td>StackingClassifier(estimators=[('gbc', Gradien...</td>\n",
       "    </tr>\n",
       "    <tr>\n",
       "      <th>7</th>\n",
       "      <td>ada_rf</td>\n",
       "      <td>0.673543</td>\n",
       "      <td>0.000000</td>\n",
       "      <td>1.000000</td>\n",
       "      <td>1.000000</td>\n",
       "      <td>0.677369</td>\n",
       "      <td>0.290323</td>\n",
       "      <td>0.709677</td>\n",
       "      <td>0.740741</td>\n",
       "      <td>((DecisionTreeClassifier(max_features='auto', ...</td>\n",
       "    </tr>\n",
       "    <tr>\n",
       "      <th>2</th>\n",
       "      <td>rf</td>\n",
       "      <td>0.673543</td>\n",
       "      <td>0.000000</td>\n",
       "      <td>1.000000</td>\n",
       "      <td>1.000000</td>\n",
       "      <td>0.645045</td>\n",
       "      <td>0.295699</td>\n",
       "      <td>0.704301</td>\n",
       "      <td>0.740458</td>\n",
       "      <td>(DecisionTreeClassifier(max_features='auto', r...</td>\n",
       "    </tr>\n",
       "    <tr>\n",
       "      <th>9</th>\n",
       "      <td>ada_et</td>\n",
       "      <td>0.670852</td>\n",
       "      <td>0.000000</td>\n",
       "      <td>1.000000</td>\n",
       "      <td>1.000000</td>\n",
       "      <td>0.669189</td>\n",
       "      <td>0.295699</td>\n",
       "      <td>0.704301</td>\n",
       "      <td>0.717241</td>\n",
       "      <td>((ExtraTreeClassifier(random_state=1705783046)...</td>\n",
       "    </tr>\n",
       "    <tr>\n",
       "      <th>4</th>\n",
       "      <td>et</td>\n",
       "      <td>0.687892</td>\n",
       "      <td>0.000000</td>\n",
       "      <td>1.000000</td>\n",
       "      <td>1.000000</td>\n",
       "      <td>0.655676</td>\n",
       "      <td>0.301075</td>\n",
       "      <td>0.698925</td>\n",
       "      <td>0.699346</td>\n",
       "      <td>(ExtraTreeClassifier(random_state=238285951), ...</td>\n",
       "    </tr>\n",
       "    <tr>\n",
       "      <th>1</th>\n",
       "      <td>dt</td>\n",
       "      <td>0.629596</td>\n",
       "      <td>0.000000</td>\n",
       "      <td>1.000000</td>\n",
       "      <td>1.000000</td>\n",
       "      <td>0.572396</td>\n",
       "      <td>0.349462</td>\n",
       "      <td>0.650538</td>\n",
       "      <td>0.630303</td>\n",
       "      <td>DecisionTreeClassifier()</td>\n",
       "    </tr>\n",
       "    <tr>\n",
       "      <th>0</th>\n",
       "      <td>logreg</td>\n",
       "      <td>0.621525</td>\n",
       "      <td>0.370404</td>\n",
       "      <td>0.629596</td>\n",
       "      <td>0.609499</td>\n",
       "      <td>0.564360</td>\n",
       "      <td>0.362903</td>\n",
       "      <td>0.637097</td>\n",
       "      <td>0.641791</td>\n",
       "      <td>LogisticRegression()</td>\n",
       "    </tr>\n",
       "    <tr>\n",
       "      <th>3</th>\n",
       "      <td>svc</td>\n",
       "      <td>0.587444</td>\n",
       "      <td>0.406278</td>\n",
       "      <td>0.593722</td>\n",
       "      <td>0.704762</td>\n",
       "      <td>0.572324</td>\n",
       "      <td>0.413978</td>\n",
       "      <td>0.586022</td>\n",
       "      <td>0.702128</td>\n",
       "      <td>SVC()</td>\n",
       "    </tr>\n",
       "  </tbody>\n",
       "</table>\n",
       "</div>"
      ],
      "text/plain": [
       "  Model Type  CV Score Training  MSE Training  Accuracy Training  \\\n",
       "8    ada_gbc           0.720179      0.000000           1.000000   \n",
       "5        gbc           0.708520      0.165919           0.834081   \n",
       "6    stacked           0.713004      0.002691           0.997309   \n",
       "7     ada_rf           0.673543      0.000000           1.000000   \n",
       "2         rf           0.673543      0.000000           1.000000   \n",
       "9     ada_et           0.670852      0.000000           1.000000   \n",
       "4         et           0.687892      0.000000           1.000000   \n",
       "1         dt           0.629596      0.000000           1.000000   \n",
       "0     logreg           0.621525      0.370404           0.629596   \n",
       "3        svc           0.587444      0.406278           0.593722   \n",
       "\n",
       "   Precision Training  CV Score Test  MSE Test  Accuracy Test  Precision Test  \\\n",
       "8            1.000000       0.706847  0.233871       0.766129        0.768750   \n",
       "5            0.914667       0.677441  0.250000       0.750000        0.817460   \n",
       "6            0.993988       0.687964  0.258065       0.741935        0.773050   \n",
       "7            1.000000       0.677369  0.290323       0.709677        0.740741   \n",
       "2            1.000000       0.645045  0.295699       0.704301        0.740458   \n",
       "9            1.000000       0.669189  0.295699       0.704301        0.717241   \n",
       "4            1.000000       0.655676  0.301075       0.698925        0.699346   \n",
       "1            1.000000       0.572396  0.349462       0.650538        0.630303   \n",
       "0            0.609499       0.564360  0.362903       0.637097        0.641791   \n",
       "3            0.704762       0.572324  0.413978       0.586022        0.702128   \n",
       "\n",
       "                                               Model  \n",
       "8  (([DecisionTreeRegressor(criterion='friedman_m...  \n",
       "5  ([DecisionTreeRegressor(criterion='friedman_ms...  \n",
       "6  StackingClassifier(estimators=[('gbc', Gradien...  \n",
       "7  ((DecisionTreeClassifier(max_features='auto', ...  \n",
       "2  (DecisionTreeClassifier(max_features='auto', r...  \n",
       "9  ((ExtraTreeClassifier(random_state=1705783046)...  \n",
       "4  (ExtraTreeClassifier(random_state=238285951), ...  \n",
       "1                           DecisionTreeClassifier()  \n",
       "0                               LogisticRegression()  \n",
       "3                                              SVC()  "
      ]
     },
     "execution_count": 53,
     "metadata": {},
     "output_type": "execute_result"
    }
   ],
   "source": [
    "# Top Accuracy Scores\n",
    "pd.DataFrame(models_dct).sort_values(by='Accuracy Test', ascending=False)"
   ]
  },
  {
   "cell_type": "code",
   "execution_count": 54,
   "metadata": {},
   "outputs": [
    {
     "data": {
      "text/html": [
       "<div>\n",
       "<style scoped>\n",
       "    .dataframe tbody tr th:only-of-type {\n",
       "        vertical-align: middle;\n",
       "    }\n",
       "\n",
       "    .dataframe tbody tr th {\n",
       "        vertical-align: top;\n",
       "    }\n",
       "\n",
       "    .dataframe thead th {\n",
       "        text-align: right;\n",
       "    }\n",
       "</style>\n",
       "<table border=\"1\" class=\"dataframe\">\n",
       "  <thead>\n",
       "    <tr style=\"text-align: right;\">\n",
       "      <th></th>\n",
       "      <th>Model Type</th>\n",
       "      <th>CV Score Training</th>\n",
       "      <th>MSE Training</th>\n",
       "      <th>Accuracy Training</th>\n",
       "      <th>Precision Training</th>\n",
       "      <th>CV Score Test</th>\n",
       "      <th>MSE Test</th>\n",
       "      <th>Accuracy Test</th>\n",
       "      <th>Precision Test</th>\n",
       "      <th>Model</th>\n",
       "    </tr>\n",
       "  </thead>\n",
       "  <tbody>\n",
       "    <tr>\n",
       "      <th>8</th>\n",
       "      <td>ada_gbc</td>\n",
       "      <td>0.720179</td>\n",
       "      <td>0.000000</td>\n",
       "      <td>1.000000</td>\n",
       "      <td>1.000000</td>\n",
       "      <td>0.706847</td>\n",
       "      <td>0.233871</td>\n",
       "      <td>0.766129</td>\n",
       "      <td>0.768750</td>\n",
       "      <td>(([DecisionTreeRegressor(criterion='friedman_m...</td>\n",
       "    </tr>\n",
       "    <tr>\n",
       "      <th>6</th>\n",
       "      <td>stacked</td>\n",
       "      <td>0.713004</td>\n",
       "      <td>0.002691</td>\n",
       "      <td>0.997309</td>\n",
       "      <td>0.993988</td>\n",
       "      <td>0.687964</td>\n",
       "      <td>0.258065</td>\n",
       "      <td>0.741935</td>\n",
       "      <td>0.773050</td>\n",
       "      <td>StackingClassifier(estimators=[('gbc', Gradien...</td>\n",
       "    </tr>\n",
       "    <tr>\n",
       "      <th>5</th>\n",
       "      <td>gbc</td>\n",
       "      <td>0.708520</td>\n",
       "      <td>0.165919</td>\n",
       "      <td>0.834081</td>\n",
       "      <td>0.914667</td>\n",
       "      <td>0.677441</td>\n",
       "      <td>0.250000</td>\n",
       "      <td>0.750000</td>\n",
       "      <td>0.817460</td>\n",
       "      <td>([DecisionTreeRegressor(criterion='friedman_ms...</td>\n",
       "    </tr>\n",
       "    <tr>\n",
       "      <th>7</th>\n",
       "      <td>ada_rf</td>\n",
       "      <td>0.673543</td>\n",
       "      <td>0.000000</td>\n",
       "      <td>1.000000</td>\n",
       "      <td>1.000000</td>\n",
       "      <td>0.677369</td>\n",
       "      <td>0.290323</td>\n",
       "      <td>0.709677</td>\n",
       "      <td>0.740741</td>\n",
       "      <td>((DecisionTreeClassifier(max_features='auto', ...</td>\n",
       "    </tr>\n",
       "    <tr>\n",
       "      <th>9</th>\n",
       "      <td>ada_et</td>\n",
       "      <td>0.670852</td>\n",
       "      <td>0.000000</td>\n",
       "      <td>1.000000</td>\n",
       "      <td>1.000000</td>\n",
       "      <td>0.669189</td>\n",
       "      <td>0.295699</td>\n",
       "      <td>0.704301</td>\n",
       "      <td>0.717241</td>\n",
       "      <td>((ExtraTreeClassifier(random_state=1705783046)...</td>\n",
       "    </tr>\n",
       "    <tr>\n",
       "      <th>4</th>\n",
       "      <td>et</td>\n",
       "      <td>0.687892</td>\n",
       "      <td>0.000000</td>\n",
       "      <td>1.000000</td>\n",
       "      <td>1.000000</td>\n",
       "      <td>0.655676</td>\n",
       "      <td>0.301075</td>\n",
       "      <td>0.698925</td>\n",
       "      <td>0.699346</td>\n",
       "      <td>(ExtraTreeClassifier(random_state=238285951), ...</td>\n",
       "    </tr>\n",
       "    <tr>\n",
       "      <th>2</th>\n",
       "      <td>rf</td>\n",
       "      <td>0.673543</td>\n",
       "      <td>0.000000</td>\n",
       "      <td>1.000000</td>\n",
       "      <td>1.000000</td>\n",
       "      <td>0.645045</td>\n",
       "      <td>0.295699</td>\n",
       "      <td>0.704301</td>\n",
       "      <td>0.740458</td>\n",
       "      <td>(DecisionTreeClassifier(max_features='auto', r...</td>\n",
       "    </tr>\n",
       "    <tr>\n",
       "      <th>1</th>\n",
       "      <td>dt</td>\n",
       "      <td>0.629596</td>\n",
       "      <td>0.000000</td>\n",
       "      <td>1.000000</td>\n",
       "      <td>1.000000</td>\n",
       "      <td>0.572396</td>\n",
       "      <td>0.349462</td>\n",
       "      <td>0.650538</td>\n",
       "      <td>0.630303</td>\n",
       "      <td>DecisionTreeClassifier()</td>\n",
       "    </tr>\n",
       "    <tr>\n",
       "      <th>3</th>\n",
       "      <td>svc</td>\n",
       "      <td>0.587444</td>\n",
       "      <td>0.406278</td>\n",
       "      <td>0.593722</td>\n",
       "      <td>0.704762</td>\n",
       "      <td>0.572324</td>\n",
       "      <td>0.413978</td>\n",
       "      <td>0.586022</td>\n",
       "      <td>0.702128</td>\n",
       "      <td>SVC()</td>\n",
       "    </tr>\n",
       "    <tr>\n",
       "      <th>0</th>\n",
       "      <td>logreg</td>\n",
       "      <td>0.621525</td>\n",
       "      <td>0.370404</td>\n",
       "      <td>0.629596</td>\n",
       "      <td>0.609499</td>\n",
       "      <td>0.564360</td>\n",
       "      <td>0.362903</td>\n",
       "      <td>0.637097</td>\n",
       "      <td>0.641791</td>\n",
       "      <td>LogisticRegression()</td>\n",
       "    </tr>\n",
       "  </tbody>\n",
       "</table>\n",
       "</div>"
      ],
      "text/plain": [
       "  Model Type  CV Score Training  MSE Training  Accuracy Training  \\\n",
       "8    ada_gbc           0.720179      0.000000           1.000000   \n",
       "6    stacked           0.713004      0.002691           0.997309   \n",
       "5        gbc           0.708520      0.165919           0.834081   \n",
       "7     ada_rf           0.673543      0.000000           1.000000   \n",
       "9     ada_et           0.670852      0.000000           1.000000   \n",
       "4         et           0.687892      0.000000           1.000000   \n",
       "2         rf           0.673543      0.000000           1.000000   \n",
       "1         dt           0.629596      0.000000           1.000000   \n",
       "3        svc           0.587444      0.406278           0.593722   \n",
       "0     logreg           0.621525      0.370404           0.629596   \n",
       "\n",
       "   Precision Training  CV Score Test  MSE Test  Accuracy Test  Precision Test  \\\n",
       "8            1.000000       0.706847  0.233871       0.766129        0.768750   \n",
       "6            0.993988       0.687964  0.258065       0.741935        0.773050   \n",
       "5            0.914667       0.677441  0.250000       0.750000        0.817460   \n",
       "7            1.000000       0.677369  0.290323       0.709677        0.740741   \n",
       "9            1.000000       0.669189  0.295699       0.704301        0.717241   \n",
       "4            1.000000       0.655676  0.301075       0.698925        0.699346   \n",
       "2            1.000000       0.645045  0.295699       0.704301        0.740458   \n",
       "1            1.000000       0.572396  0.349462       0.650538        0.630303   \n",
       "3            0.704762       0.572324  0.413978       0.586022        0.702128   \n",
       "0            0.609499       0.564360  0.362903       0.637097        0.641791   \n",
       "\n",
       "                                               Model  \n",
       "8  (([DecisionTreeRegressor(criterion='friedman_m...  \n",
       "6  StackingClassifier(estimators=[('gbc', Gradien...  \n",
       "5  ([DecisionTreeRegressor(criterion='friedman_ms...  \n",
       "7  ((DecisionTreeClassifier(max_features='auto', ...  \n",
       "9  ((ExtraTreeClassifier(random_state=1705783046)...  \n",
       "4  (ExtraTreeClassifier(random_state=238285951), ...  \n",
       "2  (DecisionTreeClassifier(max_features='auto', r...  \n",
       "1                           DecisionTreeClassifier()  \n",
       "3                                              SVC()  \n",
       "0                               LogisticRegression()  "
      ]
     },
     "execution_count": 54,
     "metadata": {},
     "output_type": "execute_result"
    }
   ],
   "source": [
    "# Top Cross Validation Scores\n",
    "pd.DataFrame(models_dct).sort_values(by='CV Score Test', ascending=False)"
   ]
  },
  {
   "cell_type": "markdown",
   "metadata": {},
   "source": [
    "Insights\n",
    "\n",
    "Grandient Boosting model had improvement in performance with AdaBoosterClassifier\n",
    "(77% accuracy score)."
   ]
  },
  {
   "cell_type": "markdown",
   "metadata": {},
   "source": []
  }
 ],
 "metadata": {
  "kernelspec": {
   "display_name": "Python 3.9.7 ('base')",
   "language": "python",
   "name": "python3"
  },
  "language_info": {
   "codemirror_mode": {
    "name": "ipython",
    "version": 3
   },
   "file_extension": ".py",
   "mimetype": "text/x-python",
   "name": "python",
   "nbconvert_exporter": "python",
   "pygments_lexer": "ipython3",
   "version": "3.9.7"
  },
  "orig_nbformat": 4,
  "vscode": {
   "interpreter": {
    "hash": "a360a2f264b66615f9d66a066cdfd87f876b0e73984abcaa81a272014365b685"
   }
  }
 },
 "nbformat": 4,
 "nbformat_minor": 2
}
